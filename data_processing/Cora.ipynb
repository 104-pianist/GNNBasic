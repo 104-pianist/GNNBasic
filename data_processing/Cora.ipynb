{
 "cells": [
  {
   "cell_type": "code",
   "execution_count": 29,
   "metadata": {},
   "outputs": [],
   "source": [
    "import numpy as np\n",
    "import scipy.sparse as sp\n",
    "import pandas as pd"
   ]
  },
  {
   "cell_type": "code",
   "execution_count": 8,
   "metadata": {},
   "outputs": [
    {
     "name": "stdout",
     "output_type": "stream",
     "text": [
      "[['31336' '0' '0' ... '0' '0' 'Neural_Networks']\n",
      " ['1061127' '0' '0' ... '0' '0' 'Rule_Learning']\n",
      " ['1106406' '0' '0' ... '0' '0' 'Reinforcement_Learning']\n",
      " ...\n",
      " ['1128978' '0' '0' ... '0' '0' 'Genetic_Algorithms']\n",
      " ['117328' '0' '0' ... '0' '0' 'Case_Based']\n",
      " ['24043' '0' '0' ... '0' '0' 'Neural_Networks']] (2708, 1435)\n"
     ]
    }
   ],
   "source": [
    "idx_features_labels = np.genfromtxt(\"./data/cora/cora.content\", dtype=np.dtype(str))\n",
    "print(idx_features_labels, idx_features_labels.shape)"
   ]
  },
  {
   "cell_type": "code",
   "execution_count": 9,
   "metadata": {},
   "outputs": [
    {
     "name": "stdout",
     "output_type": "stream",
     "text": [
      "  (0, 0)\t0.0\n",
      "  (0, 1)\t0.0\n",
      "  (0, 2)\t0.0\n",
      "  (0, 3)\t0.0\n",
      "  (0, 4)\t0.0\n",
      "  (0, 5)\t0.0\n",
      "  (0, 6)\t0.0\n",
      "  (0, 7)\t0.0\n",
      "  (0, 8)\t0.0\n",
      "  (0, 9)\t0.0\n",
      "  (0, 10)\t0.0\n",
      "  (0, 11)\t0.0\n",
      "  (0, 12)\t0.0\n",
      "  (0, 13)\t0.0\n",
      "  (0, 14)\t0.0\n",
      "  (0, 15)\t0.0\n",
      "  (0, 16)\t0.0\n",
      "  (0, 17)\t0.0\n",
      "  (0, 18)\t0.0\n",
      "  (0, 19)\t0.0\n",
      "  (0, 20)\t0.0\n",
      "  (0, 21)\t0.0\n",
      "  (0, 22)\t0.0\n",
      "  (0, 23)\t0.0\n",
      "  (0, 24)\t0.0\n",
      "  :\t:\n",
      "  (2707, 1408)\t0.0\n",
      "  (2707, 1409)\t0.0\n",
      "  (2707, 1410)\t0.0\n",
      "  (2707, 1411)\t0.0\n",
      "  (2707, 1412)\t0.0\n",
      "  (2707, 1413)\t0.0\n",
      "  (2707, 1414)\t0.0\n",
      "  (2707, 1415)\t0.0\n",
      "  (2707, 1416)\t0.0\n",
      "  (2707, 1417)\t0.0\n",
      "  (2707, 1418)\t0.0\n",
      "  (2707, 1419)\t0.0\n",
      "  (2707, 1420)\t0.0\n",
      "  (2707, 1421)\t0.0\n",
      "  (2707, 1422)\t0.0\n",
      "  (2707, 1423)\t0.0\n",
      "  (2707, 1424)\t0.0\n",
      "  (2707, 1425)\t0.0\n",
      "  (2707, 1426)\t0.0\n",
      "  (2707, 1427)\t0.0\n",
      "  (2707, 1428)\t0.0\n",
      "  (2707, 1429)\t0.0\n",
      "  (2707, 1430)\t0.0\n",
      "  (2707, 1431)\t0.0\n",
      "  (2707, 1432)\t0.0 (2708, 1433)\n"
     ]
    }
   ],
   "source": [
    "features = sp.csr_matrix(idx_features_labels[:, 1:-1], dtype=np.float32)\n",
    "print(features, features.shape)"
   ]
  },
  {
   "cell_type": "code",
   "execution_count": 17,
   "metadata": {},
   "outputs": [
    {
     "name": "stdout",
     "output_type": "stream",
     "text": [
      "  (0, 0)\t0.0\n",
      "  (0, 1)\t0.0\n",
      "  (0, 2)\t1.0\n",
      "  (1, 0)\t0.0\n",
      "  (1, 1)\t1.0\n",
      "  (1, 2)\t0.0\n",
      "  (2, 0)\t1.0\n",
      "  (2, 1)\t0.0\n",
      "  (2, 2)\t0.0\n"
     ]
    }
   ],
   "source": [
    "print(sp.csr_matrix([['0','0','1'],['0','1','0'],['1','0','0']], dtype=np.float32))"
   ]
  },
  {
   "cell_type": "code",
   "execution_count": 30,
   "metadata": {},
   "outputs": [],
   "source": [
    "def encode_onehot(labels):\n",
    "    classes = set(labels)\n",
    "    classes_dict = {c: np.identity(len(classes))[i, :] for i, c in enumerate(classes)}\n",
    "    label_onehot = np.array(list(map(classes_dict.get, labels))\n",
    "                            , dtype=np.int32)\n",
    "    return label_onehot"
   ]
  },
  {
   "cell_type": "code",
   "execution_count": 27,
   "metadata": {},
   "outputs": [
    {
     "name": "stdout",
     "output_type": "stream",
     "text": [
      "[[0 0 0 ... 0 1 0]\n",
      " [0 1 0 ... 0 0 0]\n",
      " [0 0 0 ... 1 0 0]\n",
      " ...\n",
      " [0 0 0 ... 0 0 0]\n",
      " [1 0 0 ... 0 0 0]\n",
      " [0 0 0 ... 0 1 0]]\n"
     ]
    }
   ],
   "source": [
    "labels = encode_onehot(idx_features_labels[:, -1])\n",
    "print(labels)"
   ]
  },
  {
   "cell_type": "code",
   "execution_count": 37,
   "metadata": {},
   "outputs": [
    {
     "name": "stdout",
     "output_type": "stream",
     "text": [
      "[[0 0 1 ... 0 0 0]\n",
      " [0 0 0 ... 0 1 0]\n",
      " [0 0 0 ... 1 0 0]\n",
      " ...\n",
      " [0 1 0 ... 0 0 0]\n",
      " [1 0 0 ... 0 0 0]\n",
      " [0 0 1 ... 0 0 0]]\n"
     ]
    }
   ],
   "source": [
    "# 或者直接调用\n",
    "labels_pd = pd.get_dummies(idx_features_labels[:, -1])\n",
    "print(np.array(labels_pd, dtype=np.int32))"
   ]
  },
  {
   "cell_type": "code",
   "execution_count": null,
   "metadata": {},
   "outputs": [],
   "source": []
  }
 ],
 "metadata": {
  "interpreter": {
   "hash": "461aba32aaaed833e4efe14b8e2c7ade24a373021e4000ac6d9ad958d3f1bde4"
  },
  "kernelspec": {
   "display_name": "Python 3.8.8 64-bit ('base': conda)",
   "language": "python",
   "name": "python3"
  },
  "language_info": {
   "codemirror_mode": {
    "name": "ipython",
    "version": 3
   },
   "file_extension": ".py",
   "mimetype": "text/x-python",
   "name": "python",
   "nbconvert_exporter": "python",
   "pygments_lexer": "ipython3",
   "version": "3.8.8"
  },
  "orig_nbformat": 4
 },
 "nbformat": 4,
 "nbformat_minor": 2
}
