{
 "cells": [
  {
   "cell_type": "code",
   "execution_count": 1,
   "metadata": {},
   "outputs": [],
   "source": [
    "import numpy as np\n",
    "import pandas as pd"
   ]
  },
  {
   "cell_type": "markdown",
   "metadata": {},
   "source": [
    "# 1. 读入cora数据"
   ]
  },
  {
   "cell_type": "code",
   "execution_count": 2,
   "metadata": {},
   "outputs": [
    {
     "name": "stdout",
     "output_type": "stream",
     "text": [
      "(2708, 1435)\n",
      "      0     1     2     3     4     5     6     7     8     9     ...  1425  \\\n",
      "0    31336     0     0     0     0     0     0     0     0     0  ...     0   \n",
      "1  1061127     0     0     0     0     0     0     0     0     0  ...     0   \n",
      "2  1106406     0     0     0     0     0     0     0     0     0  ...     0   \n",
      "3    13195     0     0     0     0     0     0     0     0     0  ...     0   \n",
      "4    37879     0     0     0     0     0     0     0     0     0  ...     0   \n",
      "\n",
      "   1426  1427  1428  1429  1430  1431  1432  1433                    1434  \n",
      "0     0     1     0     0     0     0     0     0         Neural_Networks  \n",
      "1     1     0     0     0     0     0     0     0           Rule_Learning  \n",
      "2     0     0     0     0     0     0     0     0  Reinforcement_Learning  \n",
      "3     0     0     0     0     0     0     0     0  Reinforcement_Learning  \n",
      "4     0     0     0     0     0     0     0     0   Probabilistic_Methods  \n",
      "\n",
      "[5 rows x 1435 columns]\n"
     ]
    }
   ],
   "source": [
    "# 读入.content文件\n",
    "cora_content = pd.read_csv('./data/cora/cora.content', sep='\\t', header=None)\n",
    "\n",
    "print(cora_content.shape)\n",
    "print(cora_content.head(5))"
   ]
  },
  {
   "cell_type": "code",
   "execution_count": 6,
   "metadata": {},
   "outputs": [
    {
     "name": "stdout",
     "output_type": "stream",
     "text": [
      "(5429, 2)\n",
      "    0        1\n",
      "0  35     1033\n",
      "1  35   103482\n",
      "2  35   103515\n",
      "3  35  1050679\n",
      "4  35  1103960\n"
     ]
    }
   ],
   "source": [
    "# 读取.cites文件\n",
    "cora_cites = pd.read_csv('./data/cora/cora.cites', sep='\\t', header=None)\n",
    "\n",
    "print(cora_cites.shape)\n",
    "print(cora_cites.head(5))"
   ]
  },
  {
   "cell_type": "markdown",
   "metadata": {},
   "source": [
    "# 2. paper_id和[0, 2707]一一映射"
   ]
  },
  {
   "cell_type": "code",
   "execution_count": 7,
   "metadata": {},
   "outputs": [
    {
     "name": "stdout",
     "output_type": "stream",
     "text": [
      "1\n"
     ]
    }
   ],
   "source": [
    "content_idx = list(cora_content.index) # [0 … 2707]\n",
    "paper_id = list(cora_content.iloc[:, 0]) # cora_content的第1列\n",
    "paper_map = dict(zip(paper_id, content_idx))\n",
    "print(paper_map[1061127])"
   ]
  },
  {
   "cell_type": "markdown",
   "metadata": {},
   "source": [
    "# 3. 提取feature matrix (2708, 1433)"
   ]
  },
  {
   "cell_type": "code",
   "execution_count": 8,
   "metadata": {},
   "outputs": [
    {
     "name": "stdout",
     "output_type": "stream",
     "text": [
      "(2708, 1433)\n",
      "   1     2     3     4     5     6     7     8     9     10    ...  1424  \\\n",
      "0     0     0     0     0     0     0     0     0     0     0  ...     0   \n",
      "1     0     0     0     0     0     0     0     0     0     0  ...     0   \n",
      "2     0     0     0     0     0     0     0     0     0     0  ...     0   \n",
      "3     0     0     0     0     0     0     0     0     0     0  ...     0   \n",
      "4     0     0     0     0     0     0     0     0     0     0  ...     0   \n",
      "\n",
      "   1425  1426  1427  1428  1429  1430  1431  1432  1433  \n",
      "0     0     0     1     0     0     0     0     0     0  \n",
      "1     0     1     0     0     0     0     0     0     0  \n",
      "2     0     0     0     0     0     0     0     0     0  \n",
      "3     0     0     0     0     0     0     0     0     0  \n",
      "4     0     0     0     0     0     0     0     0     0  \n",
      "\n",
      "[5 rows x 1433 columns]\n"
     ]
    }
   ],
   "source": [
    "feature = cora_content.iloc[:, 1:-1] \n",
    "print(feature.shape)\n",
    "print(feature.head(5))"
   ]
  },
  {
   "cell_type": "markdown",
   "metadata": {},
   "source": [
    "# 4. 标签one-hot编码"
   ]
  },
  {
   "cell_type": "code",
   "execution_count": 10,
   "metadata": {},
   "outputs": [
    {
     "name": "stdout",
     "output_type": "stream",
     "text": [
      "   Case_Based  Genetic_Algorithms  Neural_Networks  Probabilistic_Methods  \\\n",
      "0           0                   0                1                      0   \n",
      "1           0                   0                0                      0   \n",
      "2           0                   0                0                      0   \n",
      "3           0                   0                0                      0   \n",
      "4           0                   0                0                      1   \n",
      "\n",
      "   Reinforcement_Learning  Rule_Learning  Theory  \n",
      "0                       0              0       0  \n",
      "1                       0              1       0  \n",
      "2                       1              0       0  \n",
      "3                       1              0       0  \n",
      "4                       0              0       0  \n"
     ]
    }
   ],
   "source": [
    "label = cora_content.iloc[:, -1] # 最后一列\n",
    "label = pd.get_dummies(label) # 独热编码\n",
    "print(label.head(5))"
   ]
  },
  {
   "cell_type": "markdown",
   "metadata": {},
   "source": [
    "# 5. 创建adjacent matrix"
   ]
  },
  {
   "cell_type": "code",
   "execution_count": 14,
   "metadata": {},
   "outputs": [
    {
     "name": "stdout",
     "output_type": "stream",
     "text": [
      "10556.0\n"
     ]
    }
   ],
   "source": [
    "size = cora_content.shape[0] # 2708\n",
    "adj_mat = np.zeros((size, size)) # (2708 * 2708)\n",
    "\n",
    "# 创建邻接矩阵\n",
    "for x, y in zip(cora_cites[0], cora_cites[1]):\n",
    "    i, j = paper_map[x], paper_map[y]\n",
    "    adj_mat[i][j] = adj_mat[j][i] = 1 # 对称矩阵，（论文i和论文j有引用关系）\n",
    "print(sum(sum(adj_mat)))\n"
   ]
  },
  {
   "cell_type": "markdown",
   "metadata": {},
   "source": [
    "# 6. 数据格式转换（如果需要的话）"
   ]
  },
  {
   "cell_type": "code",
   "execution_count": 16,
   "metadata": {},
   "outputs": [],
   "source": [
    "# 转换前feature, label, adj_mat都是pandas的DataFrame格式\n",
    "feature = np.array(feature)\n",
    "label = np.array(label)\n",
    "adj_mat = np.array(adj_mat)"
   ]
  }
 ],
 "metadata": {
  "interpreter": {
   "hash": "461aba32aaaed833e4efe14b8e2c7ade24a373021e4000ac6d9ad958d3f1bde4"
  },
  "kernelspec": {
   "display_name": "Python 3.8.8 64-bit ('base': conda)",
   "name": "python3"
  },
  "language_info": {
   "codemirror_mode": {
    "name": "ipython",
    "version": 3
   },
   "file_extension": ".py",
   "mimetype": "text/x-python",
   "name": "python",
   "nbconvert_exporter": "python",
   "pygments_lexer": "ipython3",
   "version": "3.8.8"
  },
  "orig_nbformat": 4
 },
 "nbformat": 4,
 "nbformat_minor": 2
}
