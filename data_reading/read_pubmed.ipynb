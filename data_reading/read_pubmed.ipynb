{
 "cells": [
  {
   "cell_type": "code",
   "execution_count": 2,
   "metadata": {},
   "outputs": [],
   "source": [
    "import numpy as np\n",
    "from collections import defaultdict"
   ]
  },
  {
   "cell_type": "code",
   "execution_count": 3,
   "metadata": {},
   "outputs": [],
   "source": [
    "pubmed_content_file = \"../data/pubmed/Pubmed-Diabetes.NODE.paper.tab\"\n",
    "pubmed_cite_file = \"../data/pubmed/Pubmed-Diabetes.DIRECTED.cites.tab\""
   ]
  },
  {
   "cell_type": "code",
   "execution_count": 4,
   "metadata": {},
   "outputs": [],
   "source": [
    "paperId_number = {} # 论文id和编号映射\n",
    "label = []\n",
    "feature = []\n",
    "with open(pubmed_content_file) as fp:\n",
    "    fp.readline() # 第一行无关数据\n",
    "    # 给特征编号\n",
    "    feature_number = {entry.split(\":\")[1]:i-1 for i,entry in enumerate(fp.readline().split(\"\\t\"))}\n",
    "    num_feature = len(feature_number)-2 # 特征总数(-2是因为第一个和最后一个不属于特征，看输出feature_number查看)\n",
    "    # print(feature_number)\n",
    "    for i, line in enumerate(fp):\n",
    "        info = line.split(\"\\t\")\n",
    "        paperId_number[info[0]] = i\n",
    "        label.append(int(info[1].split(\"=\")[1])-1)\n",
    "        row_feature = np.zeros(num_feature)\n",
    "        for word_info in info[2:-1]:\n",
    "            word_info = word_info.split(\"=\")\n",
    "            row_feature[feature_number[word_info[0]]] = float(word_info[1])\n",
    "        feature.append(row_feature)\n",
    "feature = np.asarray(feature)\n",
    "label = np.asarray(label, dtype=np.int32)\n",
    "\n",
    "\n",
    "adjacency = defaultdict(set)\n",
    "with open(pubmed_cite_file) as fp:\n",
    "    # 两行无关数据\n",
    "    fp.readline()\n",
    "    fp.readline()\n",
    "    for line in fp:\n",
    "        info = line.strip().split(\"\\t\")\n",
    "        one_number = paperId_number[info[1].split(\":\")[1]]\n",
    "        two_number = paperId_number[info[-1].split(\":\")[1]]\n",
    "        adjacency[one_number].add(two_number)\n",
    "        adjacency[two_number].add(one_number)"
   ]
  },
  {
   "cell_type": "code",
   "execution_count": 5,
   "metadata": {},
   "outputs": [],
   "source": [
    "# print(feature)\n",
    "# print(label)\n",
    "# print(adjacency)"
   ]
  },
  {
   "cell_type": "code",
   "execution_count": null,
   "metadata": {},
   "outputs": [],
   "source": []
  }
 ],
 "metadata": {
  "interpreter": {
   "hash": "73e03da126b73bfff3642ec5261d56fa25c444ea595de51041687efaa60dda41"
  },
  "kernelspec": {
   "display_name": "Python 3.8.8 64-bit ('base': conda)",
   "language": "python",
   "name": "python3"
  },
  "language_info": {
   "codemirror_mode": {
    "name": "ipython",
    "version": 3
   },
   "file_extension": ".py",
   "mimetype": "text/x-python",
   "name": "python",
   "nbconvert_exporter": "python",
   "pygments_lexer": "ipython3",
   "version": "3.8.8"
  },
  "orig_nbformat": 4
 },
 "nbformat": 4,
 "nbformat_minor": 2
}
