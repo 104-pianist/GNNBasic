{
 "cells": [
  {
   "cell_type": "code",
   "execution_count": 2,
   "metadata": {},
   "outputs": [],
   "source": [
    "import numpy as np\n",
    "from collections import defaultdict"
   ]
  },
  {
   "cell_type": "code",
   "execution_count": 5,
   "metadata": {},
   "outputs": [],
   "source": [
    "cora_content_file = \"../data/cora/cora.content\"\n",
    "cora_cite_file = \"../data/cora/cora.cites\""
   ]
  },
  {
   "cell_type": "code",
   "execution_count": 14,
   "metadata": {},
   "outputs": [],
   "source": [
    "feature = [] # 特征\n",
    "paperId_number = {} # 论文id和编号映射\n",
    "label_number = {} # 类别和编号映射\n",
    "label = []\n",
    "with open(cora_content_file) as fp:\n",
    "    for i, line in enumerate(fp):\n",
    "        info = line.strip().split()\n",
    "        feature.append([float(x) for x in info[1:-1]])\n",
    "        if paperId_number.get(info[0], -1) == -1:\n",
    "            paperId_number[info[0]] = i\n",
    "        if info[-1] not in label_number:\n",
    "            label_number[info[-1]] = len(label_number)\n",
    "        label.append(label_number[info[-1]])\n",
    "feature = np.asarray(feature)\n",
    "label = np.asarray(label, dtype=np.int32)\n",
    "\n",
    "adjacency = defaultdict(set)\n",
    "with open(cora_cite_file) as fp:\n",
    "    for i, line in enumerate(fp):\n",
    "        info = line.strip().split()\n",
    "        assert len(info) == 2\n",
    "        if paperId_number.get(info[0], None) != None and paperId_number.get(info[1], None) != None:\n",
    "            one_number = paperId_number[info[0]]\n",
    "            two_number = paperId_number[info[1]]\n",
    "            adjacency[one_number].add(two_number)\n",
    "            adjacency[two_number].add(one_number)"
   ]
  },
  {
   "cell_type": "code",
   "execution_count": 16,
   "metadata": {},
   "outputs": [],
   "source": [
    "# print(feature)\n",
    "# print(label)\n",
    "# print(adjacency)"
   ]
  },
  {
   "cell_type": "code",
   "execution_count": null,
   "metadata": {},
   "outputs": [],
   "source": []
  }
 ],
 "metadata": {
  "interpreter": {
   "hash": "73e03da126b73bfff3642ec5261d56fa25c444ea595de51041687efaa60dda41"
  },
  "kernelspec": {
   "display_name": "Python 3.8.8 64-bit ('base': conda)",
   "language": "python",
   "name": "python3"
  },
  "language_info": {
   "codemirror_mode": {
    "name": "ipython",
    "version": 3
   },
   "file_extension": ".py",
   "mimetype": "text/x-python",
   "name": "python",
   "nbconvert_exporter": "python",
   "pygments_lexer": "ipython3",
   "version": "3.8.8"
  },
  "orig_nbformat": 4
 },
 "nbformat": 4,
 "nbformat_minor": 2
}
